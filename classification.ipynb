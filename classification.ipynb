{
 "cells": [
  {
   "cell_type": "code",
   "execution_count": 1,
   "metadata": {},
   "outputs": [],
   "source": [
    "import pandas as pd\n",
    "import matplotlib.pyplot as plt\n",
    "import numpy as np"
   ]
  },
  {
   "cell_type": "code",
   "execution_count": 2,
   "metadata": {},
   "outputs": [
    {
     "name": "stdout",
     "output_type": "stream",
     "text": [
      "data shape for A : (76, 12, 2)\n",
      "data shape for T : (74, 12, 2)\n",
      "data shape for W : (76, 12, 2)\n",
      "data shape for X : (81, 12, 2)\n",
      "data shape for Y : (56, 12, 2)\n"
     ]
    }
   ],
   "source": [
    "data_labels = [\"A\", \"T\", \"W\", \"X\", \"Y\"]\n",
    "full_data = {}\n",
    "for char in data_labels:\n",
    "    with open(f'{char}.pickle', 'rb') as f:\n",
    "        data = np.load(f, allow_pickle=True)\n",
    "        data[\"data\"] = np.array(data[\"data\"])\n",
    "        full_data[char] = data\n",
    "        print(f\"data shape for {char} : {data['data'].shape}\")"
   ]
  },
  {
   "cell_type": "code",
   "execution_count": 7,
   "metadata": {},
   "outputs": [
    {
     "data": {
      "image/png": "[encoded data removed]",
      "text/plain": [
       "<Figure size 432x288 with 1 Axes>"
      ]
     },
     "metadata": {
      "needs_background": "light"
     },
     "output_type": "display_data"
    }
   ],
   "source": [
    "char  = \"A\"\n",
    "idx = 12\n",
    "\n",
    "x = full_data[char]['data'][idx][:, 0]\n",
    "y = full_data[char]['data'][idx][:, 1]\n",
    "scatter = plt.scatter(x, y)\n",
    "ax = scatter.axes\n",
    "ax.invert_yaxis()\n"
   ]
  },
  {
   "cell_type": "code",
   "execution_count": 45,
   "metadata": {},
   "outputs": [],
   "source": [
    "from tensorflow.keras.models import Sequential\n",
    "from tensorflow.keras.optimizers import SGD\n",
    "from tensorflow.keras.layers import Dense, Flatten\n",
    "from tensorflow.keras.utils import to_categorical"
   ]
  },
  {
   "cell_type": "code",
   "execution_count": 46,
   "metadata": {},
   "outputs": [
    {
     "name": "stdout",
     "output_type": "stream",
     "text": [
      "(363, 12, 2)\n",
      "(363, 5)\n"
     ]
    }
   ],
   "source": [
    "X = []\n",
    "y = []\n",
    "keys = full_data.keys()\n",
    "for label, key in enumerate(keys):\n",
    "    data = full_data[key][\"data\"]\n",
    "    for row in data:\n",
    "        X.append(row)\n",
    "        y.append(label)\n",
    "\n",
    "X = np.array(X)\n",
    "y = np.array(y)\n",
    "y = to_categorical(y)\n",
    "\n",
    "print(X.shape)\n",
    "print(y.shape)\n",
    "\n",
    "input_shape = X.shape\n",
    "num_classes = y.shape[1]"
   ]
  },
  {
   "cell_type": "code",
   "execution_count": 47,
   "metadata": {},
   "outputs": [],
   "source": [
    "from sklearn.model_selection import train_test_split\n",
    "\n",
    "xtrain, xtest, ytrain, ytest = train_test_split(X, y, test_size=.2)"
   ]
  },
  {
   "cell_type": "code",
   "execution_count": 48,
   "metadata": {},
   "outputs": [
    {
     "name": "stdout",
     "output_type": "stream",
     "text": [
      "Model: \"sequential_3\"\n",
      "_________________________________________________________________\n",
      "Layer (type)                 Output Shape              Param #   \n",
      "=================================================================\n",
      "dense_9 (Dense)              (None, 12, 20)            60        \n",
      "_________________________________________________________________\n",
      "dense_10 (Dense)             (None, 12, 14)            294       \n",
      "_________________________________________________________________\n",
      "flatten_2 (Flatten)          (None, 168)               0         \n",
      "_________________________________________________________________\n",
      "dense_11 (Dense)             (None, 5)                 845       \n",
      "=================================================================\n",
      "Total params: 1,199\n",
      "Trainable params: 1,199\n",
      "Non-trainable params: 0\n",
      "_________________________________________________________________\n"
     ]
    }
   ],
   "source": [
    "model = Sequential([\n",
    "    Dense(20, input_shape=(12, 2), activation=\"relu\"),\n",
    "    Dense(14, activation=\"relu\"),\n",
    "    Flatten(),\n",
    "    Dense(num_classes, activation=\"softmax\"),\n",
    "\n",
    "])\n",
    "\n",
    "model.compile(\n",
    "    loss='categorical_crossentropy',\n",
    "    optimizer='adam',\n",
    "    metrics=['accuracy'],\n",
    "    );\n",
    "\n",
    "model.summary()"
   ]
  },
  {
   "cell_type": "code",
   "execution_count": 49,
   "metadata": {},
   "outputs": [
    {
     "name": "stdout",
     "output_type": "stream",
     "text": [
      "Epoch 1/150\n",
      "10/10 [==============================] - 0s 1ms/step - loss: 1.6346 - accuracy: 0.1586\n",
      "Epoch 2/150\n",
      "10/10 [==============================] - 0s 1ms/step - loss: 1.6142 - accuracy: 0.2069\n",
      "Epoch 3/150\n",
      "10/10 [==============================] - 0s 1ms/step - loss: 1.6020 - accuracy: 0.2379\n",
      "Epoch 4/150\n",
      "10/10 [==============================] - 0s 2ms/step - loss: 1.5902 - accuracy: 0.2483\n",
      "Epoch 5/150\n",
      "10/10 [==============================] - 0s 1ms/step - loss: 1.5796 - accuracy: 0.2966\n",
      "Epoch 6/150\n",
      "10/10 [==============================] - 0s 2ms/step - loss: 1.5685 - accuracy: 0.2931\n",
      "Epoch 7/150\n",
      "10/10 [==============================] - 0s 2ms/step - loss: 1.5568 - accuracy: 0.2897\n",
      "Epoch 8/150\n",
      "10/10 [==============================] - 0s 2ms/step - loss: 1.5418 - accuracy: 0.3345\n",
      "Epoch 9/150\n",
      "10/10 [==============================] - 0s 1ms/step - loss: 1.5277 - accuracy: 0.3103\n",
      "Epoch 10/150\n",
      "10/10 [==============================] - 0s 2ms/step - loss: 1.5124 - accuracy: 0.2966\n",
      "Epoch 11/150\n",
      "10/10 [==============================] - 0s 3ms/step - loss: 1.4941 - accuracy: 0.3586\n",
      "Epoch 12/150\n",
      "10/10 [==============================] - 0s 2ms/step - loss: 1.4767 - accuracy: 0.3966\n",
      "Epoch 13/150\n",
      "10/10 [==============================] - 0s 2ms/step - loss: 1.4612 - accuracy: 0.3793\n",
      "Epoch 14/150\n",
      "10/10 [==============================] - 0s 2ms/step - loss: 1.4374 - accuracy: 0.4241\n",
      "Epoch 15/150\n",
      "10/10 [==============================] - 0s 2ms/step - loss: 1.4137 - accuracy: 0.4690\n",
      "Epoch 16/150\n",
      "10/10 [==============================] - 0s 2ms/step - loss: 1.3940 - accuracy: 0.4828\n",
      "Epoch 17/150\n",
      "10/10 [==============================] - 0s 2ms/step - loss: 1.3621 - accuracy: 0.5103\n",
      "Epoch 18/150\n",
      "10/10 [==============================] - 0s 2ms/step - loss: 1.3333 - accuracy: 0.6483\n",
      "Epoch 19/150\n",
      "10/10 [==============================] - 0s 2ms/step - loss: 1.3057 - accuracy: 0.6621\n",
      "Epoch 20/150\n",
      "10/10 [==============================] - 0s 2ms/step - loss: 1.2733 - accuracy: 0.6621\n",
      "Epoch 21/150\n",
      "10/10 [==============================] - 0s 2ms/step - loss: 1.2471 - accuracy: 0.6172\n",
      "Epoch 22/150\n",
      "10/10 [==============================] - 0s 2ms/step - loss: 1.2097 - accuracy: 0.6414\n",
      "Epoch 23/150\n",
      "10/10 [==============================] - 0s 2ms/step - loss: 1.1858 - accuracy: 0.6828\n",
      "Epoch 24/150\n",
      "10/10 [==============================] - 0s 2ms/step - loss: 1.1489 - accuracy: 0.7103\n",
      "Epoch 25/150\n",
      "10/10 [==============================] - 0s 2ms/step - loss: 1.1238 - accuracy: 0.6552\n",
      "Epoch 26/150\n",
      "10/10 [==============================] - 0s 1ms/step - loss: 1.0898 - accuracy: 0.6586\n",
      "Epoch 27/150\n",
      "10/10 [==============================] - 0s 2ms/step - loss: 1.0564 - accuracy: 0.7103\n",
      "Epoch 28/150\n",
      "10/10 [==============================] - 0s 2ms/step - loss: 1.0261 - accuracy: 0.7517\n",
      "Epoch 29/150\n",
      "10/10 [==============================] - 0s 2ms/step - loss: 0.9930 - accuracy: 0.7724\n",
      "Epoch 30/150\n",
      "10/10 [==============================] - 0s 2ms/step - loss: 0.9705 - accuracy: 0.7517\n",
      "Epoch 31/150\n",
      "10/10 [==============================] - 0s 1ms/step - loss: 0.9366 - accuracy: 0.7552\n",
      "Epoch 32/150\n",
      "10/10 [==============================] - 0s 1ms/step - loss: 0.9065 - accuracy: 0.7724\n",
      "Epoch 33/150\n",
      "10/10 [==============================] - 0s 2ms/step - loss: 0.8776 - accuracy: 0.7862\n",
      "Epoch 34/150\n",
      "10/10 [==============================] - 0s 1ms/step - loss: 0.8484 - accuracy: 0.7759\n",
      "Epoch 35/150\n",
      "10/10 [==============================] - 0s 2ms/step - loss: 0.8245 - accuracy: 0.7966\n",
      "Epoch 36/150\n",
      "10/10 [==============================] - 0s 1ms/step - loss: 0.7955 - accuracy: 0.8276\n",
      "Epoch 37/150\n",
      "10/10 [==============================] - 0s 2ms/step - loss: 0.7677 - accuracy: 0.8345\n",
      "Epoch 38/150\n",
      "10/10 [==============================] - 0s 4ms/step - loss: 0.7417 - accuracy: 0.8276\n",
      "Epoch 39/150\n",
      "10/10 [==============================] - 0s 4ms/step - loss: 0.7139 - accuracy: 0.8345\n",
      "Epoch 40/150\n",
      "10/10 [==============================] - 0s 3ms/step - loss: 0.6989 - accuracy: 0.8276\n",
      "Epoch 41/150\n",
      "10/10 [==============================] - ETA: 0s - loss: 0.7083 - accuracy: 0.87 - 0s 3ms/step - loss: 0.6776 - accuracy: 0.8586\n",
      "Epoch 42/150\n",
      "10/10 [==============================] - 0s 2ms/step - loss: 0.6548 - accuracy: 0.8345\n",
      "Epoch 43/150\n",
      "10/10 [==============================] - 0s 2ms/step - loss: 0.6288 - accuracy: 0.8586\n",
      "Epoch 44/150\n",
      "10/10 [==============================] - 0s 2ms/step - loss: 0.6080 - accuracy: 0.8724\n",
      "Epoch 45/150\n",
      "10/10 [==============================] - 0s 1ms/step - loss: 0.5893 - accuracy: 0.8552\n",
      "Epoch 46/150\n",
      "10/10 [==============================] - 0s 2ms/step - loss: 0.5814 - accuracy: 0.8724\n",
      "Epoch 47/150\n",
      "10/10 [==============================] - 0s 1ms/step - loss: 0.5523 - accuracy: 0.8655\n",
      "Epoch 48/150\n",
      "10/10 [==============================] - 0s 1ms/step - loss: 0.5556 - accuracy: 0.8621\n",
      "Epoch 49/150\n",
      "10/10 [==============================] - 0s 1ms/step - loss: 0.5440 - accuracy: 0.8724\n",
      "Epoch 50/150\n",
      "10/10 [==============================] - 0s 2ms/step - loss: 0.5135 - accuracy: 0.8897\n",
      "Epoch 51/150\n",
      "10/10 [==============================] - 0s 2ms/step - loss: 0.5093 - accuracy: 0.8655\n",
      "Epoch 52/150\n",
      "10/10 [==============================] - 0s 1ms/step - loss: 0.4847 - accuracy: 0.8862\n",
      "Epoch 53/150\n",
      "10/10 [==============================] - 0s 2ms/step - loss: 0.4834 - accuracy: 0.8966\n",
      "Epoch 54/150\n",
      "10/10 [==============================] - 0s 2ms/step - loss: 0.4500 - accuracy: 0.9069\n",
      "Epoch 55/150\n",
      "10/10 [==============================] - 0s 1ms/step - loss: 0.4427 - accuracy: 0.8862\n",
      "Epoch 56/150\n",
      "10/10 [==============================] - 0s 2ms/step - loss: 0.4353 - accuracy: 0.9069\n",
      "Epoch 57/150\n",
      "10/10 [==============================] - 0s 2ms/step - loss: 0.4250 - accuracy: 0.8966\n",
      "Epoch 58/150\n",
      "10/10 [==============================] - 0s 2ms/step - loss: 0.4075 - accuracy: 0.9069\n",
      "Epoch 59/150\n",
      "10/10 [==============================] - 0s 2ms/step - loss: 0.3964 - accuracy: 0.9207\n",
      "Epoch 60/150\n",
      "10/10 [==============================] - 0s 1ms/step - loss: 0.4065 - accuracy: 0.9138\n",
      "Epoch 61/150\n",
      "10/10 [==============================] - 0s 2ms/step - loss: 0.3933 - accuracy: 0.9103\n",
      "Epoch 62/150\n",
      "10/10 [==============================] - 0s 1ms/step - loss: 0.3793 - accuracy: 0.9034\n",
      "Epoch 63/150\n",
      "10/10 [==============================] - 0s 2ms/step - loss: 0.3584 - accuracy: 0.9172\n",
      "Epoch 64/150\n",
      "10/10 [==============================] - 0s 2ms/step - loss: 0.3538 - accuracy: 0.9241\n",
      "Epoch 65/150\n",
      "10/10 [==============================] - 0s 2ms/step - loss: 0.3393 - accuracy: 0.9310\n",
      "Epoch 66/150\n",
      "10/10 [==============================] - 0s 3ms/step - loss: 0.3308 - accuracy: 0.9379\n",
      "Epoch 67/150\n",
      "10/10 [==============================] - 0s 2ms/step - loss: 0.3227 - accuracy: 0.9379\n",
      "Epoch 68/150\n",
      "10/10 [==============================] - 0s 1ms/step - loss: 0.3151 - accuracy: 0.9414\n",
      "Epoch 69/150\n",
      "10/10 [==============================] - 0s 2ms/step - loss: 0.3316 - accuracy: 0.9276\n",
      "Epoch 70/150\n",
      "10/10 [==============================] - 0s 1ms/step - loss: 0.3125 - accuracy: 0.9414\n",
      "Epoch 71/150\n",
      "10/10 [==============================] - 0s 1ms/step - loss: 0.3037 - accuracy: 0.9414\n",
      "Epoch 72/150\n",
      "10/10 [==============================] - 0s 1ms/step - loss: 0.2899 - accuracy: 0.9517\n",
      "Epoch 73/150\n",
      "10/10 [==============================] - 0s 2ms/step - loss: 0.2868 - accuracy: 0.9448\n",
      "Epoch 74/150\n",
      "10/10 [==============================] - 0s 1ms/step - loss: 0.2793 - accuracy: 0.9448\n",
      "Epoch 75/150\n",
      "10/10 [==============================] - 0s 2ms/step - loss: 0.2717 - accuracy: 0.9448\n",
      "Epoch 76/150\n",
      "10/10 [==============================] - 0s 2ms/step - loss: 0.2777 - accuracy: 0.9517\n",
      "Epoch 77/150\n",
      "10/10 [==============================] - 0s 1ms/step - loss: 0.2695 - accuracy: 0.9552\n",
      "Epoch 78/150\n",
      "10/10 [==============================] - 0s 2ms/step - loss: 0.2640 - accuracy: 0.9552\n",
      "Epoch 79/150\n",
      "10/10 [==============================] - 0s 1ms/step - loss: 0.2473 - accuracy: 0.9586\n",
      "Epoch 80/150\n",
      "10/10 [==============================] - 0s 1ms/step - loss: 0.2447 - accuracy: 0.9621\n",
      "Epoch 81/150\n",
      "10/10 [==============================] - 0s 2ms/step - loss: 0.2477 - accuracy: 0.9448\n",
      "Epoch 82/150\n",
      "10/10 [==============================] - 0s 2ms/step - loss: 0.2356 - accuracy: 0.9586\n",
      "Epoch 83/150\n",
      "10/10 [==============================] - 0s 2ms/step - loss: 0.2321 - accuracy: 0.9655\n",
      "Epoch 84/150\n",
      "10/10 [==============================] - 0s 2ms/step - loss: 0.2259 - accuracy: 0.9586\n",
      "Epoch 85/150\n",
      "10/10 [==============================] - 0s 2ms/step - loss: 0.2312 - accuracy: 0.9448\n",
      "Epoch 86/150\n",
      "10/10 [==============================] - 0s 2ms/step - loss: 0.2339 - accuracy: 0.9552\n",
      "Epoch 87/150\n",
      "10/10 [==============================] - 0s 2ms/step - loss: 0.2263 - accuracy: 0.9414\n",
      "Epoch 88/150\n",
      "10/10 [==============================] - 0s 2ms/step - loss: 0.2103 - accuracy: 0.9552\n",
      "Epoch 89/150\n",
      "10/10 [==============================] - 0s 2ms/step - loss: 0.2112 - accuracy: 0.9724\n",
      "Epoch 90/150\n",
      "10/10 [==============================] - 0s 2ms/step - loss: 0.2010 - accuracy: 0.9759\n",
      "Epoch 91/150\n",
      "10/10 [==============================] - 0s 2ms/step - loss: 0.2022 - accuracy: 0.9517\n",
      "Epoch 92/150\n",
      "10/10 [==============================] - 0s 2ms/step - loss: 0.1970 - accuracy: 0.9759\n",
      "Epoch 93/150\n",
      "10/10 [==============================] - 0s 2ms/step - loss: 0.1953 - accuracy: 0.9586\n",
      "Epoch 94/150\n",
      "10/10 [==============================] - 0s 1ms/step - loss: 0.1892 - accuracy: 0.9690\n",
      "Epoch 95/150\n",
      "10/10 [==============================] - 0s 1ms/step - loss: 0.1845 - accuracy: 0.9690\n",
      "Epoch 96/150\n",
      "10/10 [==============================] - 0s 1ms/step - loss: 0.1921 - accuracy: 0.9552\n",
      "Epoch 97/150\n",
      "10/10 [==============================] - 0s 1ms/step - loss: 0.1780 - accuracy: 0.9759\n",
      "Epoch 98/150\n",
      "10/10 [==============================] - 0s 1ms/step - loss: 0.1780 - accuracy: 0.9793\n",
      "Epoch 99/150\n",
      "10/10 [==============================] - 0s 1ms/step - loss: 0.1734 - accuracy: 0.9759\n",
      "Epoch 100/150\n",
      "10/10 [==============================] - 0s 2ms/step - loss: 0.1720 - accuracy: 0.9793\n",
      "Epoch 101/150\n",
      "10/10 [==============================] - 0s 1ms/step - loss: 0.1700 - accuracy: 0.9828\n",
      "Epoch 102/150\n",
      "10/10 [==============================] - 0s 1ms/step - loss: 0.1684 - accuracy: 0.9793\n",
      "Epoch 103/150\n",
      "10/10 [==============================] - 0s 1ms/step - loss: 0.1620 - accuracy: 0.9759\n",
      "Epoch 104/150\n",
      "10/10 [==============================] - 0s 1ms/step - loss: 0.1605 - accuracy: 0.9724\n",
      "Epoch 105/150\n",
      "10/10 [==============================] - 0s 1ms/step - loss: 0.1573 - accuracy: 0.9862\n",
      "Epoch 106/150\n",
      "10/10 [==============================] - 0s 1ms/step - loss: 0.1548 - accuracy: 0.9862\n",
      "Epoch 107/150\n",
      "10/10 [==============================] - 0s 2ms/step - loss: 0.1529 - accuracy: 0.9828\n",
      "Epoch 108/150\n",
      "10/10 [==============================] - 0s 1ms/step - loss: 0.1596 - accuracy: 0.9724\n",
      "Epoch 109/150\n",
      "10/10 [==============================] - 0s 1ms/step - loss: 0.1486 - accuracy: 0.9897\n",
      "Epoch 110/150\n",
      "10/10 [==============================] - 0s 2ms/step - loss: 0.1466 - accuracy: 0.9862\n",
      "Epoch 111/150\n",
      "10/10 [==============================] - 0s 1ms/step - loss: 0.1864 - accuracy: 0.9414\n",
      "Epoch 112/150\n",
      "10/10 [==============================] - 0s 1ms/step - loss: 0.1502 - accuracy: 0.9690\n",
      "Epoch 113/150\n",
      "10/10 [==============================] - 0s 2ms/step - loss: 0.1395 - accuracy: 0.9862\n",
      "Epoch 114/150\n",
      "10/10 [==============================] - 0s 2ms/step - loss: 0.1391 - accuracy: 0.9862\n",
      "Epoch 115/150\n",
      "10/10 [==============================] - 0s 1ms/step - loss: 0.1353 - accuracy: 0.9931\n",
      "Epoch 116/150\n",
      "10/10 [==============================] - 0s 1ms/step - loss: 0.1364 - accuracy: 0.9862\n",
      "Epoch 117/150\n",
      "10/10 [==============================] - 0s 1ms/step - loss: 0.1325 - accuracy: 0.9931\n",
      "Epoch 118/150\n",
      "10/10 [==============================] - 0s 1ms/step - loss: 0.1371 - accuracy: 0.9931\n",
      "Epoch 119/150\n",
      "10/10 [==============================] - 0s 1ms/step - loss: 0.1284 - accuracy: 0.9931\n",
      "Epoch 120/150\n",
      "10/10 [==============================] - 0s 1ms/step - loss: 0.1540 - accuracy: 0.9379\n",
      "Epoch 121/150\n",
      "10/10 [==============================] - 0s 1ms/step - loss: 0.1305 - accuracy: 0.9897\n",
      "Epoch 122/150\n",
      "10/10 [==============================] - 0s 1ms/step - loss: 0.1214 - accuracy: 0.9931\n",
      "Epoch 123/150\n",
      "10/10 [==============================] - 0s 1ms/step - loss: 0.1200 - accuracy: 0.9931\n",
      "Epoch 124/150\n",
      "10/10 [==============================] - 0s 1ms/step - loss: 0.1167 - accuracy: 0.9931\n",
      "Epoch 125/150\n",
      "10/10 [==============================] - 0s 1ms/step - loss: 0.1155 - accuracy: 0.9966\n",
      "Epoch 126/150\n",
      "10/10 [==============================] - 0s 1ms/step - loss: 0.1151 - accuracy: 0.9931\n",
      "Epoch 127/150\n",
      "10/10 [==============================] - 0s 1ms/step - loss: 0.1122 - accuracy: 0.9931\n",
      "Epoch 128/150\n",
      "10/10 [==============================] - 0s 2ms/step - loss: 0.1244 - accuracy: 0.9793\n",
      "Epoch 129/150\n",
      "10/10 [==============================] - 0s 2ms/step - loss: 0.1123 - accuracy: 0.9931\n",
      "Epoch 130/150\n",
      "10/10 [==============================] - 0s 2ms/step - loss: 0.1047 - accuracy: 0.9931\n",
      "Epoch 131/150\n",
      "10/10 [==============================] - 0s 2ms/step - loss: 0.1066 - accuracy: 0.9931\n",
      "Epoch 132/150\n",
      "10/10 [==============================] - 0s 2ms/step - loss: 0.1034 - accuracy: 0.9931\n",
      "Epoch 133/150\n",
      "10/10 [==============================] - 0s 1ms/step - loss: 0.1060 - accuracy: 0.9931\n",
      "Epoch 134/150\n",
      "10/10 [==============================] - 0s 1ms/step - loss: 0.1035 - accuracy: 0.9931\n",
      "Epoch 135/150\n",
      "10/10 [==============================] - 0s 2ms/step - loss: 0.1022 - accuracy: 0.9931\n",
      "Epoch 136/150\n",
      "10/10 [==============================] - 0s 1ms/step - loss: 0.1069 - accuracy: 0.9897\n",
      "Epoch 137/150\n",
      "10/10 [==============================] - 0s 2ms/step - loss: 0.0974 - accuracy: 0.9931\n",
      "Epoch 138/150\n",
      "10/10 [==============================] - 0s 2ms/step - loss: 0.0961 - accuracy: 0.9931\n",
      "Epoch 139/150\n",
      "10/10 [==============================] - 0s 2ms/step - loss: 0.0955 - accuracy: 0.9931\n",
      "Epoch 140/150\n",
      "10/10 [==============================] - 0s 2ms/step - loss: 0.0949 - accuracy: 0.9966\n",
      "Epoch 141/150\n",
      "10/10 [==============================] - 0s 3ms/step - loss: 0.0922 - accuracy: 0.9931\n",
      "Epoch 142/150\n",
      "10/10 [==============================] - 0s 2ms/step - loss: 0.0898 - accuracy: 0.9931\n",
      "Epoch 143/150\n",
      "10/10 [==============================] - 0s 2ms/step - loss: 0.0889 - accuracy: 0.9966\n",
      "Epoch 144/150\n",
      "10/10 [==============================] - 0s 2ms/step - loss: 0.0919 - accuracy: 0.9931\n",
      "Epoch 145/150\n",
      "10/10 [==============================] - 0s 2ms/step - loss: 0.1011 - accuracy: 0.9828\n",
      "Epoch 146/150\n",
      "10/10 [==============================] - 0s 2ms/step - loss: 0.0831 - accuracy: 0.9897\n",
      "Epoch 147/150\n",
      "10/10 [==============================] - 0s 2ms/step - loss: 0.0894 - accuracy: 0.9931\n",
      "Epoch 148/150\n",
      "10/10 [==============================] - 0s 2ms/step - loss: 0.0812 - accuracy: 0.9931\n",
      "Epoch 149/150\n",
      "10/10 [==============================] - 0s 1ms/step - loss: 0.0830 - accuracy: 0.9931\n",
      "Epoch 150/150\n",
      "10/10 [==============================] - 0s 1ms/step - loss: 0.0793 - accuracy: 0.9931\n"
     ]
    },
    {
     "data": {
      "text/plain": [
       "<tensorflow.python.keras.callbacks.History at 0x7ff3ade18670>"
      ]
     },
     "execution_count": 49,
     "metadata": {},
     "output_type": "execute_result"
    }
   ],
   "source": [
    "model.fit(xtrain, ytrain, epochs=150, shuffle=True)"
   ]
  },
  {
   "cell_type": "code",
   "execution_count": 50,
   "metadata": {},
   "outputs": [
    {
     "name": "stdout",
     "output_type": "stream",
     "text": [
      "3/3 [==============================] - 0s 2ms/step - loss: 0.1132 - accuracy: 0.9726\n"
     ]
    },
    {
     "data": {
      "text/plain": [
       "[0.1132160872220993, 0.9726027250289917]"
      ]
     },
     "execution_count": 50,
     "metadata": {},
     "output_type": "execute_result"
    }
   ],
   "source": [
    "model.evaluate(xtest, ytest)"
   ]
  },
  {
   "cell_type": "code",
   "execution_count": 51,
   "metadata": {},
   "outputs": [
    {
     "data": {
      "text/plain": [
       "<AxesSubplot:>"
      ]
     },
     "execution_count": 51,
     "metadata": {},
     "output_type": "execute_result"
    },
    {
     "data": {
      "image/png": "[encoded data removed]",
      "text/plain": [
       "<Figure size 432x288 with 2 Axes>"
      ]
     },
     "metadata": {},
     "output_type": "display_data"
    }
   ],
   "source": [
    "# from sklearn.metrics import ConfusionMatrixDisplay\n",
    "from sklearn.metrics import confusion_matrix\n",
    "import seaborn as sn\n",
    "\n",
    "\n",
    "y_true = list(map(np.argmax, ytest))\n",
    "y_pred = model.predict_classes(xtest)\n",
    "\n",
    "cm = confusion_matrix(y_true, y_pred)\n",
    "sn.set(font_scale=1.4) # for label size\n",
    "sn.heatmap(cm, annot=True, annot_kws={\"size\": 16}) # font size\n",
    "\n"
   ]
  },
  {
   "cell_type": "code",
   "execution_count": 52,
   "metadata": {},
   "outputs": [
    {
     "name": "stdout",
     "output_type": "stream",
     "text": [
      "INFO:tensorflow:Assets written to: /tmp/tmpyalt239e/assets\n"
     ]
    },
    {
     "name": "stderr",
     "output_type": "stream",
     "text": [
      "INFO:tensorflow:Assets written to: /tmp/tmpyalt239e/assets\n",
      "2021-12-10 01:04:44.115575: I tensorflow/stream_executor/cuda/cuda_gpu_executor.cc:937] successful NUMA node read from SysFS had negative value (-1), but there must be at least one NUMA node, so returning NUMA node zero\n",
      "2021-12-10 01:04:44.116385: I tensorflow/core/grappler/devices.cc:69] Number of eligible GPUs (core count >= 8, compute capability >= 0.0): 0\n",
      "2021-12-10 01:04:44.116484: I tensorflow/core/grappler/clusters/single_machine.cc:357] Starting new session\n",
      "2021-12-10 01:04:44.116834: I tensorflow/stream_executor/cuda/cuda_gpu_executor.cc:937] successful NUMA node read from SysFS had negative value (-1), but there must be at least one NUMA node, so returning NUMA node zero\n",
      "2021-12-10 01:04:44.117137: I tensorflow/core/common_runtime/gpu/gpu_device.cc:1733] Found device 0 with properties: \n",
      "pciBusID: 0000:01:00.0 name: NVIDIA GeForce GTX 960M computeCapability: 5.0\n",
      "coreClock: 1.176GHz coreCount: 5 deviceMemorySize: 3.95GiB deviceMemoryBandwidth: 74.65GiB/s\n",
      "2021-12-10 01:04:44.117151: W tensorflow/core/common_runtime/gpu/gpu_device.cc:1766] Cannot dlopen some GPU libraries. Please make sure the missing libraries mentioned above are installed properly if you would like to use GPU. Follow the guide at https://www.tensorflow.org/install/gpu for how to download and setup the required libraries for your platform.\n",
      "Skipping registering GPU devices...\n",
      "2021-12-10 01:04:44.117166: I tensorflow/core/common_runtime/gpu/gpu_device.cc:1258] Device interconnect StreamExecutor with strength 1 edge matrix:\n",
      "2021-12-10 01:04:44.117172: I tensorflow/core/common_runtime/gpu/gpu_device.cc:1264]      0 \n",
      "2021-12-10 01:04:44.117178: I tensorflow/core/common_runtime/gpu/gpu_device.cc:1277] 0:   N \n",
      "2021-12-10 01:04:44.118674: I tensorflow/core/grappler/optimizers/meta_optimizer.cc:1144] Optimization results for grappler item: graph_to_optimize\n",
      "  function_optimizer: function_optimizer did nothing. time = 0.006ms.\n",
      "  function_optimizer: function_optimizer did nothing. time = 0.002ms.\n",
      "\n",
      "2021-12-10 01:04:44.180541: W tensorflow/compiler/mlir/lite/python/tf_tfl_flatbuffer_helpers.cc:345] Ignored output_format.\n",
      "2021-12-10 01:04:44.180570: W tensorflow/compiler/mlir/lite/python/tf_tfl_flatbuffer_helpers.cc:348] Ignored drop_control_dependency.\n"
     ]
    }
   ],
   "source": [
    "import tensorflow as tf\n",
    "\n",
    "converter = tf.lite.TFLiteConverter.from_keras_model(model)\n",
    "tflite_model = converter.convert()\n",
    "with open('classify_model.tflite', 'wb') as f:\n",
    "  f.write(tflite_model)"
   ]
  },
  {
   "cell_type": "code",
   "execution_count": null,
   "metadata": {},
   "outputs": [],
   "source": []
  }
 ],
 "metadata": {
  "interpreter": {
   "hash": "3c565731bfa97c5b366459b7f199d39a7148d4a7935d2a02c150fe3fd1ea3fba"
  },
  "kernelspec": {
   "display_name": "Python 3.8.5 64-bit ('base': conda)",
   "language": "python",
   "name": "python3"
  },
  "language_info": {
   "codemirror_mode": {
    "name": "ipython",
    "version": 3
   },
   "file_extension": ".py",
   "mimetype": "text/x-python",
   "name": "python",
   "nbconvert_exporter": "python",
   "pygments_lexer": "ipython3",
   "version": "3.8.5"
  },
  "orig_nbformat": 4
 },
 "nbformat": 4,
 "nbformat_minor": 2
}
