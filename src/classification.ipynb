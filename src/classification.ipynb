{
 "cells": [
  {
   "cell_type": "code",
   "execution_count": 1,
   "metadata": {},
   "outputs": [],
   "source": [
    "import numpy as np\n",
    "import matplotlib.pyplot as plt"
   ]
  },
  {
   "cell_type": "code",
   "execution_count": 2,
   "metadata": {},
   "outputs": [
    {
     "name": "stdout",
     "output_type": "stream",
     "text": [
      "data shape for A : (76, 12, 2)\n",
      "data shape for T : (74, 12, 2)\n",
      "data shape for W : (76, 12, 2)\n",
      "data shape for X : (81, 12, 2)\n",
      "data shape for Y : (56, 12, 2)\n"
     ]
    }
   ],
   "source": [
    "data_labels = [\"A\", \"T\", \"W\", \"X\", \"Y\"]\n",
    "full_data = {}\n",
    "for char in data_labels:\n",
    "    with open(f'{char}.pickle', 'rb') as f:\n",
    "        data = np.load(f, allow_pickle=True)\n",
    "        data[\"data\"] = np.array(data[\"data\"])\n",
    "        full_data[char] = data\n",
    "        print(f\"data shape for {char} : {data['data'].shape}\")"
   ]
  },
  {
   "cell_type": "code",
   "execution_count": 3,
   "metadata": {},
   "outputs": [
    {
     "data": {
      "image/png": "[encoded data removed]",
      "text/plain": [
       "<Figure size 432x288 with 1 Axes>"
      ]
     },
     "metadata": {
      "needs_background": "light"
     },
     "output_type": "display_data"
    }
   ],
   "source": [
    "char  = \"A\"\n",
    "idx = 12\n",
    "\n",
    "x = full_data[char]['data'][idx][:, 0]\n",
    "y = full_data[char]['data'][idx][:, 1]\n",
    "scatter = plt.scatter(x, y)\n",
    "ax = scatter.axes\n",
    "ax.invert_yaxis()\n"
   ]
  },
  {
   "cell_type": "code",
   "execution_count": 4,
   "metadata": {},
   "outputs": [
    {
     "name": "stderr",
     "output_type": "stream",
     "text": [
      "2021-12-10 16:29:33.690347: I tensorflow/stream_executor/platform/default/dso_loader.cc:53] Successfully opened dynamic library libcudart.so.11.0\n"
     ]
    }
   ],
   "source": [
    "from tensorflow.keras.models import Sequential\n",
    "from tensorflow.keras.layers import Dense\n",
    "from tensorflow.keras.utils import to_categorical"
   ]
  },
  {
   "cell_type": "code",
   "execution_count": 5,
   "metadata": {},
   "outputs": [
    {
     "name": "stdout",
     "output_type": "stream",
     "text": [
      "(363, 24)\n",
      "(363, 5)\n"
     ]
    }
   ],
   "source": [
    "X = []\n",
    "y = []\n",
    "keys = full_data.keys()\n",
    "for label, key in enumerate(keys):\n",
    "    data = full_data[key][\"data\"]\n",
    "    for row in data:\n",
    "        X.append(row.ravel())\n",
    "        y.append(label)\n",
    "\n",
    "X = np.array(X)\n",
    "y = np.array(y)\n",
    "y = to_categorical(y)\n",
    "\n",
    "print(X.shape)\n",
    "print(y.shape)\n",
    "\n",
    "input_shape = X.ravel().shape\n",
    "num_classes = y.shape[1]"
   ]
  },
  {
   "cell_type": "code",
   "execution_count": 6,
   "metadata": {},
   "outputs": [],
   "source": [
    "from sklearn.model_selection import train_test_split\n",
    "\n",
    "xtrain, xtest, ytrain, ytest = train_test_split(X, y, test_size=.2)"
   ]
  },
  {
   "cell_type": "code",
   "execution_count": 7,
   "metadata": {},
   "outputs": [
    {
     "name": "stdout",
     "output_type": "stream",
     "text": [
      "Model: \"sequential\"\n",
      "_________________________________________________________________\n",
      "Layer (type)                 Output Shape              Param #   \n",
      "=================================================================\n",
      "dense (Dense)                (None, 20)                500       \n",
      "_________________________________________________________________\n",
      "dense_1 (Dense)              (None, 14)                294       \n",
      "_________________________________________________________________\n",
      "dense_2 (Dense)              (None, 5)                 75        \n",
      "=================================================================\n",
      "Total params: 869\n",
      "Trainable params: 869\n",
      "Non-trainable params: 0\n",
      "_________________________________________________________________\n"
     ]
    },
    {
     "name": "stderr",
     "output_type": "stream",
     "text": [
      "2021-12-10 16:29:35.428842: I tensorflow/stream_executor/platform/default/dso_loader.cc:53] Successfully opened dynamic library libcuda.so.1\n",
      "2021-12-10 16:29:35.452012: E tensorflow/stream_executor/cuda/cuda_driver.cc:328] failed call to cuInit: CUDA_ERROR_UNKNOWN: unknown error\n",
      "2021-12-10 16:29:35.452045: I tensorflow/stream_executor/cuda/cuda_diagnostics.cc:169] retrieving CUDA diagnostic information for host: MohammadRezaei\n",
      "2021-12-10 16:29:35.452053: I tensorflow/stream_executor/cuda/cuda_diagnostics.cc:176] hostname: MohammadRezaei\n",
      "2021-12-10 16:29:35.452147: I tensorflow/stream_executor/cuda/cuda_diagnostics.cc:200] libcuda reported version is: 465.19.1\n",
      "2021-12-10 16:29:35.452174: I tensorflow/stream_executor/cuda/cuda_diagnostics.cc:204] kernel reported version is: 465.19.1\n",
      "2021-12-10 16:29:35.452181: I tensorflow/stream_executor/cuda/cuda_diagnostics.cc:310] kernel version seems to match DSO: 465.19.1\n",
      "2021-12-10 16:29:35.453198: I tensorflow/core/platform/cpu_feature_guard.cc:142] This TensorFlow binary is optimized with oneAPI Deep Neural Network Library (oneDNN) to use the following CPU instructions in performance-critical operations:  AVX2 FMA\n",
      "To enable them in other operations, rebuild TensorFlow with the appropriate compiler flags.\n"
     ]
    }
   ],
   "source": [
    "model = Sequential([\n",
    "    Dense(20, input_shape=(24,), activation=\"relu\"),\n",
    "    Dense(14, activation=\"relu\"),\n",
    "    Dense(num_classes, activation=\"softmax\"),\n",
    "])\n",
    "\n",
    "model.compile(\n",
    "    loss='categorical_crossentropy',\n",
    "    optimizer='adam',\n",
    "    metrics=['accuracy'],\n",
    "    );\n",
    "\n",
    "model.summary()"
   ]
  },
  {
   "cell_type": "code",
   "execution_count": 8,
   "metadata": {},
   "outputs": [
    {
     "name": "stderr",
     "output_type": "stream",
     "text": [
      "2021-12-10 16:29:35.554915: I tensorflow/compiler/mlir/mlir_graph_optimization_pass.cc:176] None of the MLIR Optimization Passes are enabled (registered 2)\n",
      "2021-12-10 16:29:35.571823: I tensorflow/core/platform/profile_utils/cpu_utils.cc:114] CPU Frequency: 2599990000 Hz\n"
     ]
    },
    {
     "name": "stdout",
     "output_type": "stream",
     "text": [
      "Epoch 1/150\n",
      "19/19 [==============================] - 0s 870us/step - loss: 1.6244 - accuracy: 0.2034\n",
      "Epoch 2/150\n",
      "19/19 [==============================] - 0s 1ms/step - loss: 1.5894 - accuracy: 0.2103\n",
      "Epoch 3/150\n",
      "19/19 [==============================] - 0s 1ms/step - loss: 1.5804 - accuracy: 0.2241\n",
      "Epoch 4/150\n",
      "19/19 [==============================] - 0s 1ms/step - loss: 1.5742 - accuracy: 0.2414\n",
      "Epoch 5/150\n",
      "19/19 [==============================] - 0s 1ms/step - loss: 1.5686 - accuracy: 0.2517\n",
      "Epoch 6/150\n",
      "19/19 [==============================] - 0s 1ms/step - loss: 1.5624 - accuracy: 0.2793\n",
      "Epoch 7/150\n",
      "19/19 [==============================] - 0s 1ms/step - loss: 1.5571 - accuracy: 0.2379\n",
      "Epoch 8/150\n",
      "19/19 [==============================] - 0s 1ms/step - loss: 1.5489 - accuracy: 0.3034\n",
      "Epoch 9/150\n",
      "19/19 [==============================] - 0s 2ms/step - loss: 1.5427 - accuracy: 0.3000\n",
      "Epoch 10/150\n",
      "19/19 [==============================] - 0s 2ms/step - loss: 1.5350 - accuracy: 0.4034\n",
      "Epoch 11/150\n",
      "19/19 [==============================] - 0s 1ms/step - loss: 1.5249 - accuracy: 0.4172\n",
      "Epoch 12/150\n",
      "19/19 [==============================] - 0s 1ms/step - loss: 1.5169 - accuracy: 0.4379\n",
      "Epoch 13/150\n",
      "19/19 [==============================] - 0s 1ms/step - loss: 1.5076 - accuracy: 0.4172\n",
      "Epoch 14/150\n",
      "19/19 [==============================] - 0s 1ms/step - loss: 1.4869 - accuracy: 0.4000\n",
      "Epoch 15/150\n",
      "19/19 [==============================] - 0s 1ms/step - loss: 1.4695 - accuracy: 0.4517\n",
      "Epoch 16/150\n",
      "19/19 [==============================] - 0s 1ms/step - loss: 1.4444 - accuracy: 0.4586\n",
      "Epoch 17/150\n",
      "19/19 [==============================] - 0s 1ms/step - loss: 1.4229 - accuracy: 0.4310\n",
      "Epoch 18/150\n",
      "19/19 [==============================] - 0s 1ms/step - loss: 1.3958 - accuracy: 0.4690\n",
      "Epoch 19/150\n",
      "19/19 [==============================] - 0s 1ms/step - loss: 1.3734 - accuracy: 0.4828\n",
      "Epoch 20/150\n",
      "19/19 [==============================] - 0s 1ms/step - loss: 1.3439 - accuracy: 0.4897\n",
      "Epoch 21/150\n",
      "19/19 [==============================] - 0s 1ms/step - loss: 1.3159 - accuracy: 0.5172\n",
      "Epoch 22/150\n",
      "19/19 [==============================] - 0s 1ms/step - loss: 1.2871 - accuracy: 0.5724\n",
      "Epoch 23/150\n",
      "19/19 [==============================] - 0s 1ms/step - loss: 1.2595 - accuracy: 0.5862\n",
      "Epoch 24/150\n",
      "19/19 [==============================] - 0s 1ms/step - loss: 1.2317 - accuracy: 0.5862\n",
      "Epoch 25/150\n",
      "19/19 [==============================] - 0s 1ms/step - loss: 1.2103 - accuracy: 0.5241\n",
      "Epoch 26/150\n",
      "19/19 [==============================] - 0s 1ms/step - loss: 1.1797 - accuracy: 0.6103\n",
      "Epoch 27/150\n",
      "19/19 [==============================] - 0s 1ms/step - loss: 1.1490 - accuracy: 0.6069\n",
      "Epoch 28/150\n",
      "19/19 [==============================] - 0s 934us/step - loss: 1.1214 - accuracy: 0.5931\n",
      "Epoch 29/150\n",
      "19/19 [==============================] - 0s 1ms/step - loss: 1.0954 - accuracy: 0.6276\n",
      "Epoch 30/150\n",
      "19/19 [==============================] - 0s 1ms/step - loss: 1.0675 - accuracy: 0.6241\n",
      "Epoch 31/150\n",
      "19/19 [==============================] - 0s 1ms/step - loss: 1.0470 - accuracy: 0.5966\n",
      "Epoch 32/150\n",
      "19/19 [==============================] - 0s 1ms/step - loss: 1.0198 - accuracy: 0.6483\n",
      "Epoch 33/150\n",
      "19/19 [==============================] - 0s 968us/step - loss: 0.9938 - accuracy: 0.6586\n",
      "Epoch 34/150\n",
      "19/19 [==============================] - 0s 1ms/step - loss: 0.9754 - accuracy: 0.6793\n",
      "Epoch 35/150\n",
      "19/19 [==============================] - 0s 1ms/step - loss: 0.9491 - accuracy: 0.6517\n",
      "Epoch 36/150\n",
      "19/19 [==============================] - 0s 1ms/step - loss: 0.9206 - accuracy: 0.7034\n",
      "Epoch 37/150\n",
      "19/19 [==============================] - 0s 1ms/step - loss: 0.9109 - accuracy: 0.7034\n",
      "Epoch 38/150\n",
      "19/19 [==============================] - 0s 1ms/step - loss: 0.8872 - accuracy: 0.7310\n",
      "Epoch 39/150\n",
      "19/19 [==============================] - 0s 1ms/step - loss: 0.8604 - accuracy: 0.7207\n",
      "Epoch 40/150\n",
      "19/19 [==============================] - 0s 945us/step - loss: 0.8390 - accuracy: 0.7655\n",
      "Epoch 41/150\n",
      "19/19 [==============================] - 0s 1ms/step - loss: 0.8105 - accuracy: 0.7759\n",
      "Epoch 42/150\n",
      "19/19 [==============================] - 0s 1ms/step - loss: 0.7974 - accuracy: 0.7690\n",
      "Epoch 43/150\n",
      "19/19 [==============================] - 0s 1ms/step - loss: 0.7718 - accuracy: 0.7931\n",
      "Epoch 44/150\n",
      "19/19 [==============================] - 0s 1ms/step - loss: 0.7561 - accuracy: 0.8103\n",
      "Epoch 45/150\n",
      "19/19 [==============================] - 0s 1ms/step - loss: 0.7344 - accuracy: 0.7690\n",
      "Epoch 46/150\n",
      "19/19 [==============================] - 0s 1ms/step - loss: 0.7182 - accuracy: 0.8103\n",
      "Epoch 47/150\n",
      "19/19 [==============================] - 0s 1ms/step - loss: 0.7017 - accuracy: 0.7897\n",
      "Epoch 48/150\n",
      "19/19 [==============================] - 0s 1ms/step - loss: 0.6854 - accuracy: 0.8138\n",
      "Epoch 49/150\n",
      "19/19 [==============================] - 0s 1ms/step - loss: 0.6739 - accuracy: 0.7966\n",
      "Epoch 50/150\n",
      "19/19 [==============================] - 0s 3ms/step - loss: 0.6526 - accuracy: 0.8069\n",
      "Epoch 51/150\n",
      "19/19 [==============================] - 0s 1ms/step - loss: 0.6394 - accuracy: 0.8207\n",
      "Epoch 52/150\n",
      "19/19 [==============================] - 0s 1ms/step - loss: 0.6292 - accuracy: 0.8379\n",
      "Epoch 53/150\n",
      "19/19 [==============================] - 0s 1ms/step - loss: 0.6102 - accuracy: 0.8379\n",
      "Epoch 54/150\n",
      "19/19 [==============================] - 0s 1ms/step - loss: 0.5910 - accuracy: 0.8310\n",
      "Epoch 55/150\n",
      "19/19 [==============================] - 0s 1ms/step - loss: 0.5769 - accuracy: 0.8345\n",
      "Epoch 56/150\n",
      "19/19 [==============================] - 0s 1ms/step - loss: 0.5631 - accuracy: 0.8586\n",
      "Epoch 57/150\n",
      "19/19 [==============================] - 0s 1ms/step - loss: 0.5639 - accuracy: 0.8483\n",
      "Epoch 58/150\n",
      "19/19 [==============================] - 0s 1ms/step - loss: 0.5420 - accuracy: 0.8552\n",
      "Epoch 59/150\n",
      "19/19 [==============================] - 0s 1ms/step - loss: 0.5337 - accuracy: 0.8345\n",
      "Epoch 60/150\n",
      "19/19 [==============================] - 0s 1ms/step - loss: 0.5163 - accuracy: 0.8586\n",
      "Epoch 61/150\n",
      "19/19 [==============================] - 0s 2ms/step - loss: 0.5056 - accuracy: 0.8724\n",
      "Epoch 62/150\n",
      "19/19 [==============================] - 0s 1ms/step - loss: 0.4970 - accuracy: 0.8862\n",
      "Epoch 63/150\n",
      "19/19 [==============================] - 0s 1ms/step - loss: 0.4843 - accuracy: 0.8897\n",
      "Epoch 64/150\n",
      "19/19 [==============================] - 0s 1ms/step - loss: 0.4766 - accuracy: 0.8759\n",
      "Epoch 65/150\n",
      "19/19 [==============================] - 0s 1ms/step - loss: 0.4655 - accuracy: 0.9000\n",
      "Epoch 66/150\n",
      "19/19 [==============================] - 0s 1ms/step - loss: 0.4544 - accuracy: 0.9069\n",
      "Epoch 67/150\n",
      "19/19 [==============================] - 0s 1ms/step - loss: 0.4434 - accuracy: 0.9034\n",
      "Epoch 68/150\n",
      "19/19 [==============================] - 0s 1ms/step - loss: 0.4354 - accuracy: 0.9138\n",
      "Epoch 69/150\n",
      "19/19 [==============================] - 0s 1ms/step - loss: 0.4300 - accuracy: 0.9069\n",
      "Epoch 70/150\n",
      "19/19 [==============================] - 0s 1ms/step - loss: 0.4199 - accuracy: 0.9138\n",
      "Epoch 71/150\n",
      "19/19 [==============================] - 0s 1ms/step - loss: 0.4233 - accuracy: 0.9069\n",
      "Epoch 72/150\n",
      "19/19 [==============================] - 0s 1ms/step - loss: 0.4048 - accuracy: 0.9103\n",
      "Epoch 73/150\n",
      "19/19 [==============================] - 0s 1ms/step - loss: 0.3928 - accuracy: 0.9207\n",
      "Epoch 74/150\n",
      "19/19 [==============================] - 0s 920us/step - loss: 0.3894 - accuracy: 0.9207\n",
      "Epoch 75/150\n",
      "19/19 [==============================] - 0s 992us/step - loss: 0.3815 - accuracy: 0.9207\n",
      "Epoch 76/150\n",
      "19/19 [==============================] - 0s 1ms/step - loss: 0.3847 - accuracy: 0.9103\n",
      "Epoch 77/150\n",
      "19/19 [==============================] - 0s 1ms/step - loss: 0.3656 - accuracy: 0.9276\n",
      "Epoch 78/150\n",
      "19/19 [==============================] - 0s 1ms/step - loss: 0.3585 - accuracy: 0.9379\n",
      "Epoch 79/150\n",
      "19/19 [==============================] - 0s 1ms/step - loss: 0.3542 - accuracy: 0.9448\n",
      "Epoch 80/150\n",
      "19/19 [==============================] - 0s 893us/step - loss: 0.3450 - accuracy: 0.9345\n",
      "Epoch 81/150\n",
      "19/19 [==============================] - 0s 1ms/step - loss: 0.3368 - accuracy: 0.9552\n",
      "Epoch 82/150\n",
      "19/19 [==============================] - 0s 1ms/step - loss: 0.3316 - accuracy: 0.9448\n",
      "Epoch 83/150\n",
      "19/19 [==============================] - 0s 1ms/step - loss: 0.3222 - accuracy: 0.9345\n",
      "Epoch 84/150\n",
      "19/19 [==============================] - 0s 1ms/step - loss: 0.3173 - accuracy: 0.9483\n",
      "Epoch 85/150\n",
      "19/19 [==============================] - 0s 1ms/step - loss: 0.3109 - accuracy: 0.9414\n",
      "Epoch 86/150\n",
      "19/19 [==============================] - 0s 1ms/step - loss: 0.3092 - accuracy: 0.9448\n",
      "Epoch 87/150\n",
      "19/19 [==============================] - 0s 1ms/step - loss: 0.3047 - accuracy: 0.9483\n",
      "Epoch 88/150\n",
      "19/19 [==============================] - 0s 1ms/step - loss: 0.2911 - accuracy: 0.9586\n",
      "Epoch 89/150\n",
      "19/19 [==============================] - 0s 974us/step - loss: 0.2859 - accuracy: 0.9586\n",
      "Epoch 90/150\n",
      "19/19 [==============================] - 0s 974us/step - loss: 0.2880 - accuracy: 0.9448\n",
      "Epoch 91/150\n",
      "19/19 [==============================] - 0s 1ms/step - loss: 0.2818 - accuracy: 0.9517\n",
      "Epoch 92/150\n",
      "19/19 [==============================] - 0s 1ms/step - loss: 0.2714 - accuracy: 0.9621\n",
      "Epoch 93/150\n",
      "19/19 [==============================] - 0s 996us/step - loss: 0.2644 - accuracy: 0.9655\n",
      "Epoch 94/150\n",
      "19/19 [==============================] - 0s 1ms/step - loss: 0.2573 - accuracy: 0.9690\n",
      "Epoch 95/150\n",
      "19/19 [==============================] - 0s 972us/step - loss: 0.2529 - accuracy: 0.9690\n",
      "Epoch 96/150\n",
      "19/19 [==============================] - 0s 1ms/step - loss: 0.2454 - accuracy: 0.9724\n",
      "Epoch 97/150\n",
      "19/19 [==============================] - 0s 1ms/step - loss: 0.2431 - accuracy: 0.9621\n",
      "Epoch 98/150\n",
      "19/19 [==============================] - 0s 1ms/step - loss: 0.2352 - accuracy: 0.9793\n",
      "Epoch 99/150\n",
      "19/19 [==============================] - 0s 1ms/step - loss: 0.2304 - accuracy: 0.9759\n",
      "Epoch 100/150\n",
      "19/19 [==============================] - 0s 988us/step - loss: 0.2230 - accuracy: 0.9828\n",
      "Epoch 101/150\n",
      "19/19 [==============================] - 0s 1ms/step - loss: 0.2291 - accuracy: 0.9793\n",
      "Epoch 102/150\n",
      "19/19 [==============================] - 0s 1ms/step - loss: 0.2203 - accuracy: 0.9793\n",
      "Epoch 103/150\n",
      "19/19 [==============================] - 0s 1ms/step - loss: 0.2251 - accuracy: 0.9621\n",
      "Epoch 104/150\n",
      "19/19 [==============================] - 0s 1ms/step - loss: 0.2126 - accuracy: 0.9862\n",
      "Epoch 105/150\n",
      "19/19 [==============================] - 0s 1ms/step - loss: 0.2104 - accuracy: 0.9897\n",
      "Epoch 106/150\n",
      "19/19 [==============================] - 0s 1ms/step - loss: 0.1977 - accuracy: 0.9862\n",
      "Epoch 107/150\n",
      "19/19 [==============================] - 0s 1ms/step - loss: 0.1951 - accuracy: 0.9793\n",
      "Epoch 108/150\n",
      "19/19 [==============================] - 0s 1ms/step - loss: 0.1917 - accuracy: 0.9828\n",
      "Epoch 109/150\n",
      "19/19 [==============================] - 0s 1ms/step - loss: 0.1893 - accuracy: 0.9862\n",
      "Epoch 110/150\n",
      "19/19 [==============================] - 0s 1ms/step - loss: 0.1812 - accuracy: 0.9966\n",
      "Epoch 111/150\n",
      "19/19 [==============================] - 0s 1ms/step - loss: 0.1776 - accuracy: 0.9897\n",
      "Epoch 112/150\n",
      "19/19 [==============================] - 0s 1ms/step - loss: 0.1757 - accuracy: 0.9862\n",
      "Epoch 113/150\n",
      "19/19 [==============================] - 0s 1ms/step - loss: 0.1788 - accuracy: 0.9897\n",
      "Epoch 114/150\n",
      "19/19 [==============================] - 0s 1ms/step - loss: 0.1749 - accuracy: 0.9966\n",
      "Epoch 115/150\n",
      "19/19 [==============================] - 0s 1ms/step - loss: 0.1634 - accuracy: 0.9862\n",
      "Epoch 116/150\n",
      "19/19 [==============================] - 0s 1ms/step - loss: 0.1645 - accuracy: 0.9966\n",
      "Epoch 117/150\n",
      "19/19 [==============================] - 0s 1ms/step - loss: 0.1565 - accuracy: 1.0000\n",
      "Epoch 118/150\n",
      "19/19 [==============================] - 0s 1ms/step - loss: 0.1594 - accuracy: 0.9897\n",
      "Epoch 119/150\n",
      "19/19 [==============================] - 0s 1ms/step - loss: 0.1488 - accuracy: 1.0000\n",
      "Epoch 120/150\n",
      "19/19 [==============================] - 0s 1ms/step - loss: 0.1476 - accuracy: 0.9966\n",
      "Epoch 121/150\n",
      "19/19 [==============================] - 0s 1ms/step - loss: 0.1428 - accuracy: 1.0000\n",
      "Epoch 122/150\n",
      "19/19 [==============================] - 0s 1ms/step - loss: 0.1460 - accuracy: 0.9931\n",
      "Epoch 123/150\n",
      "19/19 [==============================] - 0s 1ms/step - loss: 0.1403 - accuracy: 1.0000\n",
      "Epoch 124/150\n",
      "19/19 [==============================] - 0s 1ms/step - loss: 0.1333 - accuracy: 1.0000\n",
      "Epoch 125/150\n",
      "19/19 [==============================] - 0s 1ms/step - loss: 0.1325 - accuracy: 0.9966\n",
      "Epoch 126/150\n",
      "19/19 [==============================] - 0s 1ms/step - loss: 0.1306 - accuracy: 1.0000\n",
      "Epoch 127/150\n",
      "19/19 [==============================] - 0s 1ms/step - loss: 0.1267 - accuracy: 1.0000\n",
      "Epoch 128/150\n",
      "19/19 [==============================] - 0s 1ms/step - loss: 0.1232 - accuracy: 1.0000\n",
      "Epoch 129/150\n",
      "19/19 [==============================] - 0s 1ms/step - loss: 0.1198 - accuracy: 1.0000\n",
      "Epoch 130/150\n",
      "19/19 [==============================] - 0s 2ms/step - loss: 0.1181 - accuracy: 1.0000\n",
      "Epoch 131/150\n",
      "19/19 [==============================] - 0s 916us/step - loss: 0.1181 - accuracy: 1.0000\n",
      "Epoch 132/150\n",
      "19/19 [==============================] - 0s 2ms/step - loss: 0.1149 - accuracy: 1.0000\n",
      "Epoch 133/150\n",
      "19/19 [==============================] - 0s 2ms/step - loss: 0.1116 - accuracy: 0.9966\n",
      "Epoch 134/150\n",
      "19/19 [==============================] - 0s 2ms/step - loss: 0.1106 - accuracy: 1.0000\n",
      "Epoch 135/150\n",
      "19/19 [==============================] - 0s 1ms/step - loss: 0.1071 - accuracy: 1.0000\n",
      "Epoch 136/150\n",
      "19/19 [==============================] - 0s 1ms/step - loss: 0.1054 - accuracy: 1.0000\n",
      "Epoch 137/150\n",
      "19/19 [==============================] - 0s 1ms/step - loss: 0.1024 - accuracy: 1.0000\n",
      "Epoch 138/150\n",
      "19/19 [==============================] - 0s 1ms/step - loss: 0.1022 - accuracy: 0.9966\n",
      "Epoch 139/150\n",
      "19/19 [==============================] - 0s 2ms/step - loss: 0.1009 - accuracy: 1.0000\n",
      "Epoch 140/150\n",
      "19/19 [==============================] - 0s 1ms/step - loss: 0.1013 - accuracy: 1.0000\n",
      "Epoch 141/150\n",
      "19/19 [==============================] - 0s 1ms/step - loss: 0.0958 - accuracy: 1.0000\n",
      "Epoch 142/150\n",
      "19/19 [==============================] - 0s 1ms/step - loss: 0.0935 - accuracy: 1.0000\n",
      "Epoch 143/150\n",
      "19/19 [==============================] - 0s 1ms/step - loss: 0.0903 - accuracy: 1.0000\n",
      "Epoch 144/150\n",
      "19/19 [==============================] - 0s 1ms/step - loss: 0.0896 - accuracy: 1.0000\n",
      "Epoch 145/150\n",
      "19/19 [==============================] - 0s 1ms/step - loss: 0.0865 - accuracy: 1.0000\n",
      "Epoch 146/150\n",
      "19/19 [==============================] - 0s 1ms/step - loss: 0.0849 - accuracy: 1.0000\n",
      "Epoch 147/150\n",
      "19/19 [==============================] - 0s 1ms/step - loss: 0.0833 - accuracy: 1.0000\n",
      "Epoch 148/150\n",
      "19/19 [==============================] - 0s 1ms/step - loss: 0.0825 - accuracy: 1.0000\n",
      "Epoch 149/150\n",
      "19/19 [==============================] - 0s 1ms/step - loss: 0.0823 - accuracy: 1.0000\n",
      "Epoch 150/150\n",
      "19/19 [==============================] - 0s 1ms/step - loss: 0.0793 - accuracy: 1.0000\n"
     ]
    },
    {
     "data": {
      "text/plain": [
       "<tensorflow.python.keras.callbacks.History at 0x7ff064271220>"
      ]
     },
     "execution_count": 8,
     "metadata": {},
     "output_type": "execute_result"
    }
   ],
   "source": [
    "model.fit(xtrain, ytrain, epochs=150, shuffle=True, batch_size = 16)"
   ]
  },
  {
   "cell_type": "code",
   "execution_count": 9,
   "metadata": {},
   "outputs": [
    {
     "name": "stdout",
     "output_type": "stream",
     "text": [
      "3/3 [==============================] - 0s 1ms/step - loss: 0.0809 - accuracy: 1.0000\n"
     ]
    },
    {
     "data": {
      "text/plain": [
       "[0.0809178426861763, 1.0]"
      ]
     },
     "execution_count": 9,
     "metadata": {},
     "output_type": "execute_result"
    }
   ],
   "source": [
    "model.evaluate(xtest, ytest)"
   ]
  },
  {
   "cell_type": "code",
   "execution_count": 10,
   "metadata": {},
   "outputs": [
    {
     "name": "stderr",
     "output_type": "stream",
     "text": [
      "/home/mohammad/.local/lib/python3.8/site-packages/tensorflow/python/keras/engine/sequential.py:455: UserWarning: `model.predict_classes()` is deprecated and will be removed after 2021-01-01. Please use instead:* `np.argmax(model.predict(x), axis=-1)`,   if your model does multi-class classification   (e.g. if it uses a `softmax` last-layer activation).* `(model.predict(x) > 0.5).astype(\"int32\")`,   if your model does binary classification   (e.g. if it uses a `sigmoid` last-layer activation).\n",
      "  warnings.warn('`model.predict_classes()` is deprecated and '\n"
     ]
    },
    {
     "data": {
      "text/plain": [
       "<AxesSubplot:>"
      ]
     },
     "execution_count": 10,
     "metadata": {},
     "output_type": "execute_result"
    },
    {
     "data": {
      "image/png": "[encoded data removed]",
      "text/plain": [
       "<Figure size 432x288 with 2 Axes>"
      ]
     },
     "metadata": {},
     "output_type": "display_data"
    }
   ],
   "source": [
    "# from sklearn.metrics import ConfusionMatrixDisplay\n",
    "from sklearn.metrics import confusion_matrix\n",
    "import seaborn as sn\n",
    "\n",
    "\n",
    "y_true = list(map(np.argmax, ytest))\n",
    "y_pred = model.predict_classes(xtest);\n",
    "\n",
    "cm = confusion_matrix(y_true, y_pred)\n",
    "sn.set(font_scale=1.4) # for label size\n",
    "sn.heatmap(cm, annot=True, annot_kws={\"size\": 16}) # font size\n",
    "\n"
   ]
  },
  {
   "cell_type": "code",
   "execution_count": 11,
   "metadata": {},
   "outputs": [
    {
     "name": "stderr",
     "output_type": "stream",
     "text": [
      "2021-12-10 16:29:40.916072: W tensorflow/python/util/util.cc:348] Sets are not currently considered sequences, but this may change in the future, so consider avoiding using them.\n"
     ]
    },
    {
     "name": "stdout",
     "output_type": "stream",
     "text": [
      "INFO:tensorflow:Assets written to: /tmp/tmpspwd5mu7/assets\n"
     ]
    },
    {
     "name": "stderr",
     "output_type": "stream",
     "text": [
      "2021-12-10 16:29:41.342791: I tensorflow/core/grappler/devices.cc:69] Number of eligible GPUs (core count >= 8, compute capability >= 0.0): 0\n",
      "2021-12-10 16:29:41.342898: I tensorflow/core/grappler/clusters/single_machine.cc:357] Starting new session\n",
      "2021-12-10 16:29:41.344211: I tensorflow/core/grappler/optimizers/meta_optimizer.cc:1144] Optimization results for grappler item: graph_to_optimize\n",
      "  function_optimizer: function_optimizer did nothing. time = 0.007ms.\n",
      "  function_optimizer: function_optimizer did nothing. time = 0.001ms.\n",
      "\n",
      "2021-12-10 16:29:41.371306: W tensorflow/compiler/mlir/lite/python/tf_tfl_flatbuffer_helpers.cc:345] Ignored output_format.\n",
      "2021-12-10 16:29:41.371336: W tensorflow/compiler/mlir/lite/python/tf_tfl_flatbuffer_helpers.cc:348] Ignored drop_control_dependency.\n",
      "2021-12-10 16:29:41.373765: I tensorflow/compiler/mlir/tensorflow/utils/dump_mlir_util.cc:210] disabling MLIR crash reproducer, set env var `MLIR_CRASH_REPRODUCER_DIRECTORY` to enable.\n"
     ]
    }
   ],
   "source": [
    "import tensorflow as tf\n",
    "\n",
    "converter = tf.lite.TFLiteConverter.from_keras_model(model)\n",
    "tflite_model = converter.convert()\n",
    "with open('../classify_model.tflite', 'wb') as f:\n",
    "  f.write(tflite_model)"
   ]
  }
 ],
 "metadata": {
  "interpreter": {
   "hash": "3c565731bfa97c5b366459b7f199d39a7148d4a7935d2a02c150fe3fd1ea3fba"
  },
  "kernelspec": {
   "display_name": "Python 3.8.5 64-bit ('base': conda)",
   "language": "python",
   "name": "python3"
  },
  "language_info": {
   "codemirror_mode": {
    "name": "ipython",
    "version": 3
   },
   "file_extension": ".py",
   "mimetype": "text/x-python",
   "name": "python",
   "nbconvert_exporter": "python",
   "pygments_lexer": "ipython3",
   "version": "3.8.5"
  },
  "orig_nbformat": 4
 },
 "nbformat": 4,
 "nbformat_minor": 2
}
